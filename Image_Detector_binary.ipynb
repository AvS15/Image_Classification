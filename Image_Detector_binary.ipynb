{
 "cells": [
  {
   "cell_type": "code",
   "execution_count": null,
   "metadata": {},
   "outputs": [],
   "source": [
    "import numpy as np\n",
    "import pandas as pd\n",
    "import matplotlib.pyplot as plt\n",
    "import os\n",
    "import cv2\n",
    "\n",
    "import tensorflow as tf\n",
    "from tensorflow.keras import Sequential\n",
    "from tensorflow.keras.layers import Dense, Dropout, Activation, Flatten, Conv2D, MaxPooling2D\n",
    "from tensorflow.keras.utils import to_categorical"
   ]
  },
  {
   "cell_type": "code",
   "execution_count": null,
   "metadata": {},
   "outputs": [],
   "source": [
    "DATADIR = r\"E:\\Images\\Buildings\"\n",
    "\n",
    "CATEGORIES = [\"EmpireStateBuilding\", \"SydneyOpera\"]\n",
    "\n",
    "\n",
    "training_data = []\n",
    "\n",
    "def create_training_data():\n",
    "    for category in CATEGORIES:  \n",
    "        path = os.path.join(DATADIR, category)  \n",
    "        class_num = CATEGORIES.index(category)  \n",
    "\n",
    "        for img in os.listdir(path):            \n",
    "            try:\n",
    "                img_array = cv2.imread(os.path.join(path, img) ,cv2.IMREAD_GRAYSCALE)  \n",
    "                new_array = cv2.resize(img_array, (IMG_SIZE, IMG_SIZE))  \n",
    "                training_data.append([new_array, class_num])             \n",
    "            except Exception as e:                                       \n",
    "                pass\n",
    "\n",
    "            \n",
    "create_training_data()"
   ]
  },
  {
   "cell_type": "code",
   "execution_count": null,
   "metadata": {},
   "outputs": [],
   "source": [
    "X = []       # Feature-Set\n",
    "y = []       # Label-Set\n",
    "\n",
    "\n",
    "for features, label in training_data:\n",
    "    X.append(features)\n",
    "    y.append(label)\n",
    "    \n",
    "    \n",
    "X = np.array(X).reshape(-1, IMG_SIZE, IMG_SIZE, 1)\n",
    "X = X/255.0                                           # Normalize between 0 and 1.\n",
    "\n",
    "y = np.array(y)"
   ]
  },
  {
   "cell_type": "code",
   "execution_count": null,
   "metadata": {},
   "outputs": [],
   "source": [
    "# Build model: We use the CNN (Convolutional Neural Network) as a special neural net for image classification.\n",
    "\n",
    "model = Sequential()\n",
    "\n",
    "model.add(Conv2D(100, (3, 3), activation='relu', input_shape=X.shape[1:]))\n",
    "model.add(MaxPooling2D(pool_size=(2, 2)))\n",
    "\n",
    "model.add(Conv2D(100, (3, 3), activation='relu'))\n",
    "model.add(MaxPooling2D(pool_size=(2, 2)))\n",
    "\n",
    "model.add(Flatten())                          # converts 3D feature maps to 1D feature vectors\n",
    "\n",
    "model.add(Dense(30, activation='relu'))       \n",
    "\n",
    "model.add(Dense(1, activation='sigmoid'))\n",
    "\n",
    "\n",
    "model.compile(loss='binary_crossentropy',\n",
    "              optimizer='adam',\n",
    "              metrics=['accuracy'])\n",
    "\n",
    "\n",
    "model.fit(X, y, batch_size=32, epochs=3)   "
   ]
  },
  {
   "cell_type": "code",
   "execution_count": null,
   "metadata": {},
   "outputs": [],
   "source": [
    "# Classify a new picture\n",
    "\n",
    "def prepare(filepath):\n",
    "    IMG_SIZE = 50                                               \n",
    "    img_array = cv2.imread(filepath, cv2.IMREAD_GRAYSCALE)      \n",
    "    new_array = cv2.resize(img_array, (IMG_SIZE, IMG_SIZE))    \n",
    "    \n",
    "    return new_array.reshape(-1, IMG_SIZE, IMG_SIZE, 1)        \n",
    "\n",
    "\n",
    "# make prediction\n",
    "\n",
    "prediction = model.predict([prepare(r\"E:\\Images\\Test\\esb.jpg\")])        \n",
    "print(prediction)                                       \n",
    "print(prediction[0][0])                                \n",
    "\n",
    "print(CATEGORIES[int(prediction[0][0])])     "
   ]
  }
 ],
 "metadata": {
  "kernelspec": {
   "display_name": "Python 3",
   "language": "python",
   "name": "python3"
  },
  "language_info": {
   "codemirror_mode": {
    "name": "ipython",
    "version": 3
   },
   "file_extension": ".py",
   "mimetype": "text/x-python",
   "name": "python",
   "nbconvert_exporter": "python",
   "pygments_lexer": "ipython3",
   "version": "3.7.7"
  }
 },
 "nbformat": 4,
 "nbformat_minor": 4
}
